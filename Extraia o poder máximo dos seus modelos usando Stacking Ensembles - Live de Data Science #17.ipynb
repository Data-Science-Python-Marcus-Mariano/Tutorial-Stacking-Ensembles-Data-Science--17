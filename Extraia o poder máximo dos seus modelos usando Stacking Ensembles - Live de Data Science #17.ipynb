{
 "cells": [
  {
   "cell_type": "markdown",
   "metadata": {},
   "source": [
    "# Extraia o poder máximo dos seus modelos usando Stacking Ensembles - Live de Data Science #17\n",
    "\n",
    "Tutorial for improve skills: 'Extraia o poder máximo dos seus modelos usando Stacking Ensembles - Live de Data Science #17' ( Mario Filho - Data Science) by Marcus Mariano\n",
    "\n",
    "**For more information about Marcus Mariano: [Web site](https://marcusmariano.github.io/mmariano/)**  \n",
    "\n",
    "**Extraia o poder máximo dos seus modelos usando Stacking Ensembles - Live de Data Science #17 [ Mario Filho - Data Science.](https://www.youtube.com/watch?v=TSoQGRhhHBE&t=27s)** "
   ]
  },
  {
   "cell_type": "code",
   "execution_count": 1,
   "metadata": {},
   "outputs": [],
   "source": [
    "import pandas as pd\n",
    "import numpy as np"
   ]
  },
  {
   "cell_type": "markdown",
   "metadata": {},
   "source": [
    "# Ensembles\n",
    "\n",
    "- Join two or more Machine Learning model to a better solutions.\n",
    "- Good for time series.\n",
    "- Ensemble cluster can be used to unsupervised learning.\n",
    "- With ensemble, it's can have earned 5% or 10% on final solution of your stronger Machine Learning model."
   ]
  },
  {
   "cell_type": "code",
   "execution_count": 2,
   "metadata": {},
   "outputs": [],
   "source": [
    "train = pd.read_csv(\"data/train.csv\")\n",
    "test = pd.read_csv(\"data/test.csv\")"
   ]
  },
  {
   "cell_type": "code",
   "execution_count": 3,
   "metadata": {},
   "outputs": [
    {
     "name": "stdout",
     "output_type": "stream",
     "text": [
      "<class 'pandas.core.frame.DataFrame'>\n",
      "RangeIndex: 891 entries, 0 to 890\n",
      "Data columns (total 12 columns):\n",
      " #   Column       Non-Null Count  Dtype  \n",
      "---  ------       --------------  -----  \n",
      " 0   PassengerId  891 non-null    int64  \n",
      " 1   Survived     891 non-null    int64  \n",
      " 2   Pclass       891 non-null    int64  \n",
      " 3   Name         891 non-null    object \n",
      " 4   Sex          891 non-null    object \n",
      " 5   Age          714 non-null    float64\n",
      " 6   SibSp        891 non-null    int64  \n",
      " 7   Parch        891 non-null    int64  \n",
      " 8   Ticket       891 non-null    object \n",
      " 9   Fare         891 non-null    float64\n",
      " 10  Cabin        204 non-null    object \n",
      " 11  Embarked     889 non-null    object \n",
      "dtypes: float64(2), int64(5), object(5)\n",
      "memory usage: 83.7+ KB\n"
     ]
    }
   ],
   "source": [
    "train.info()"
   ]
  },
  {
   "cell_type": "code",
   "execution_count": 4,
   "metadata": {},
   "outputs": [
    {
     "name": "stdout",
     "output_type": "stream",
     "text": [
      "<class 'pandas.core.frame.DataFrame'>\n",
      "RangeIndex: 418 entries, 0 to 417\n",
      "Data columns (total 11 columns):\n",
      " #   Column       Non-Null Count  Dtype  \n",
      "---  ------       --------------  -----  \n",
      " 0   PassengerId  418 non-null    int64  \n",
      " 1   Pclass       418 non-null    int64  \n",
      " 2   Name         418 non-null    object \n",
      " 3   Sex          418 non-null    object \n",
      " 4   Age          332 non-null    float64\n",
      " 5   SibSp        418 non-null    int64  \n",
      " 6   Parch        418 non-null    int64  \n",
      " 7   Ticket       418 non-null    object \n",
      " 8   Fare         417 non-null    float64\n",
      " 9   Cabin        91 non-null     object \n",
      " 10  Embarked     418 non-null    object \n",
      "dtypes: float64(2), int64(4), object(5)\n",
      "memory usage: 36.0+ KB\n"
     ]
    }
   ],
   "source": [
    "test.info()"
   ]
  },
  {
   "cell_type": "code",
   "execution_count": 5,
   "metadata": {},
   "outputs": [],
   "source": [
    "train['Sex_binario'] = train['Sex'].map({\"male\": 0, \"female\": 1})\n",
    "test['Sex_binario'] = test['Sex'].map({\"male\": 0, \"female\": 1})"
   ]
  },
  {
   "cell_type": "code",
   "execution_count": 6,
   "metadata": {},
   "outputs": [
    {
     "data": {
      "text/html": [
       "<div>\n",
       "<style scoped>\n",
       "    .dataframe tbody tr th:only-of-type {\n",
       "        vertical-align: middle;\n",
       "    }\n",
       "\n",
       "    .dataframe tbody tr th {\n",
       "        vertical-align: top;\n",
       "    }\n",
       "\n",
       "    .dataframe thead th {\n",
       "        text-align: right;\n",
       "    }\n",
       "</style>\n",
       "<table border=\"1\" class=\"dataframe\">\n",
       "  <thead>\n",
       "    <tr style=\"text-align: right;\">\n",
       "      <th></th>\n",
       "      <th>PassengerId</th>\n",
       "      <th>Survived</th>\n",
       "      <th>Pclass</th>\n",
       "      <th>Name</th>\n",
       "      <th>Sex</th>\n",
       "      <th>Age</th>\n",
       "      <th>SibSp</th>\n",
       "      <th>Parch</th>\n",
       "      <th>Ticket</th>\n",
       "      <th>Fare</th>\n",
       "      <th>Cabin</th>\n",
       "      <th>Embarked</th>\n",
       "      <th>Sex_binario</th>\n",
       "    </tr>\n",
       "  </thead>\n",
       "  <tbody>\n",
       "    <tr>\n",
       "      <th>0</th>\n",
       "      <td>1</td>\n",
       "      <td>0</td>\n",
       "      <td>3</td>\n",
       "      <td>Braund, Mr. Owen Harris</td>\n",
       "      <td>male</td>\n",
       "      <td>22.0</td>\n",
       "      <td>1</td>\n",
       "      <td>0</td>\n",
       "      <td>A/5 21171</td>\n",
       "      <td>7.2500</td>\n",
       "      <td>NaN</td>\n",
       "      <td>S</td>\n",
       "      <td>0</td>\n",
       "    </tr>\n",
       "    <tr>\n",
       "      <th>1</th>\n",
       "      <td>2</td>\n",
       "      <td>1</td>\n",
       "      <td>1</td>\n",
       "      <td>Cumings, Mrs. John Bradley (Florence Briggs Th...</td>\n",
       "      <td>female</td>\n",
       "      <td>38.0</td>\n",
       "      <td>1</td>\n",
       "      <td>0</td>\n",
       "      <td>PC 17599</td>\n",
       "      <td>71.2833</td>\n",
       "      <td>C85</td>\n",
       "      <td>C</td>\n",
       "      <td>1</td>\n",
       "    </tr>\n",
       "    <tr>\n",
       "      <th>2</th>\n",
       "      <td>3</td>\n",
       "      <td>1</td>\n",
       "      <td>3</td>\n",
       "      <td>Heikkinen, Miss. Laina</td>\n",
       "      <td>female</td>\n",
       "      <td>26.0</td>\n",
       "      <td>0</td>\n",
       "      <td>0</td>\n",
       "      <td>STON/O2. 3101282</td>\n",
       "      <td>7.9250</td>\n",
       "      <td>NaN</td>\n",
       "      <td>S</td>\n",
       "      <td>1</td>\n",
       "    </tr>\n",
       "    <tr>\n",
       "      <th>3</th>\n",
       "      <td>4</td>\n",
       "      <td>1</td>\n",
       "      <td>1</td>\n",
       "      <td>Futrelle, Mrs. Jacques Heath (Lily May Peel)</td>\n",
       "      <td>female</td>\n",
       "      <td>35.0</td>\n",
       "      <td>1</td>\n",
       "      <td>0</td>\n",
       "      <td>113803</td>\n",
       "      <td>53.1000</td>\n",
       "      <td>C123</td>\n",
       "      <td>S</td>\n",
       "      <td>1</td>\n",
       "    </tr>\n",
       "    <tr>\n",
       "      <th>4</th>\n",
       "      <td>5</td>\n",
       "      <td>0</td>\n",
       "      <td>3</td>\n",
       "      <td>Allen, Mr. William Henry</td>\n",
       "      <td>male</td>\n",
       "      <td>35.0</td>\n",
       "      <td>0</td>\n",
       "      <td>0</td>\n",
       "      <td>373450</td>\n",
       "      <td>8.0500</td>\n",
       "      <td>NaN</td>\n",
       "      <td>S</td>\n",
       "      <td>0</td>\n",
       "    </tr>\n",
       "  </tbody>\n",
       "</table>\n",
       "</div>"
      ],
      "text/plain": [
       "   PassengerId  Survived  Pclass  \\\n",
       "0            1         0       3   \n",
       "1            2         1       1   \n",
       "2            3         1       3   \n",
       "3            4         1       1   \n",
       "4            5         0       3   \n",
       "\n",
       "                                                Name     Sex   Age  SibSp  \\\n",
       "0                            Braund, Mr. Owen Harris    male  22.0      1   \n",
       "1  Cumings, Mrs. John Bradley (Florence Briggs Th...  female  38.0      1   \n",
       "2                             Heikkinen, Miss. Laina  female  26.0      0   \n",
       "3       Futrelle, Mrs. Jacques Heath (Lily May Peel)  female  35.0      1   \n",
       "4                           Allen, Mr. William Henry    male  35.0      0   \n",
       "\n",
       "   Parch            Ticket     Fare Cabin Embarked  Sex_binario  \n",
       "0      0         A/5 21171   7.2500   NaN        S            0  \n",
       "1      0          PC 17599  71.2833   C85        C            1  \n",
       "2      0  STON/O2. 3101282   7.9250   NaN        S            1  \n",
       "3      0            113803  53.1000  C123        S            1  \n",
       "4      0            373450   8.0500   NaN        S            0  "
      ]
     },
     "execution_count": 6,
     "metadata": {},
     "output_type": "execute_result"
    }
   ],
   "source": [
    "train.head()"
   ]
  },
  {
   "cell_type": "code",
   "execution_count": 7,
   "metadata": {},
   "outputs": [],
   "source": [
    "X = train.select_dtypes(include = np.number).drop([\"PassengerId\", 'Survived'], axis=1).fillna(0)\n",
    "y = train['Survived']"
   ]
  },
  {
   "cell_type": "code",
   "execution_count": 8,
   "metadata": {},
   "outputs": [
    {
     "name": "stdout",
     "output_type": "stream",
     "text": [
      "<class 'pandas.core.frame.DataFrame'>\n",
      "RangeIndex: 891 entries, 0 to 890\n",
      "Data columns (total 6 columns):\n",
      " #   Column       Non-Null Count  Dtype  \n",
      "---  ------       --------------  -----  \n",
      " 0   Pclass       891 non-null    int64  \n",
      " 1   Age          891 non-null    float64\n",
      " 2   SibSp        891 non-null    int64  \n",
      " 3   Parch        891 non-null    int64  \n",
      " 4   Fare         891 non-null    float64\n",
      " 5   Sex_binario  891 non-null    int64  \n",
      "dtypes: float64(2), int64(4)\n",
      "memory usage: 41.9 KB\n"
     ]
    }
   ],
   "source": [
    "X.info()"
   ]
  },
  {
   "cell_type": "code",
   "execution_count": 9,
   "metadata": {},
   "outputs": [
    {
     "data": {
      "text/plain": [
       "0    0\n",
       "1    1\n",
       "2    1\n",
       "3    1\n",
       "4    0\n",
       "5    0\n",
       "6    0\n",
       "7    0\n",
       "8    1\n",
       "9    1\n",
       "Name: Survived, dtype: int64"
      ]
     },
     "execution_count": 9,
     "metadata": {},
     "output_type": "execute_result"
    }
   ],
   "source": [
    "y[:10]"
   ]
  },
  {
   "cell_type": "markdown",
   "metadata": {},
   "source": [
    "## Import model packages"
   ]
  },
  {
   "cell_type": "code",
   "execution_count": 10,
   "metadata": {},
   "outputs": [],
   "source": [
    "from sklearn.ensemble import RandomForestClassifier, ExtraTreesClassifier\n",
    "from sklearn.linear_model import LogisticRegression\n",
    "from sklearn.preprocessing import StandardScaler, MinMaxScaler\n",
    "from sklearn.model_selection import KFold\n",
    "from sklearn.metrics import log_loss, accuracy_score\n",
    "from sklearn.pipeline import make_pipeline"
   ]
  },
  {
   "cell_type": "code",
   "execution_count": 11,
   "metadata": {},
   "outputs": [
    {
     "data": {
      "text/plain": [
       "array([[0., 0., 0., 0.],\n",
       "       [0., 0., 0., 0.],\n",
       "       [0., 0., 0., 0.],\n",
       "       ...,\n",
       "       [0., 0., 0., 0.],\n",
       "       [0., 0., 0., 0.],\n",
       "       [0., 0., 0., 0.]])"
      ]
     },
     "execution_count": 11,
     "metadata": {},
     "output_type": "execute_result"
    }
   ],
   "source": [
    "np.zeros((X.shape[0], 4))"
   ]
  },
  {
   "cell_type": "code",
   "execution_count": 12,
   "metadata": {},
   "outputs": [
    {
     "data": {
      "text/plain": [
       "(891, 4)"
      ]
     },
     "execution_count": 12,
     "metadata": {},
     "output_type": "execute_result"
    }
   ],
   "source": [
    "np.zeros((X.shape[0], 4)).shape"
   ]
  },
  {
   "cell_type": "markdown",
   "metadata": {},
   "source": [
    "## fatores de diversidade\n",
    "\n",
    "- Média e média ponderada (blending)\n",
    "- Bagging e Boosting\n",
    "- Média de Seeds\n",
    "- Stacking: o queridinho do Kaggle"
   ]
  },
  {
   "cell_type": "code",
   "execution_count": 13,
   "metadata": {},
   "outputs": [],
   "source": [
    "from tqdm.notebook import tqdm"
   ]
  },
  {
   "cell_type": "code",
   "execution_count": 20,
   "metadata": {},
   "outputs": [
    {
     "data": {
      "application/vnd.jupyter.widget-view+json": {
       "model_id": "f1966d88ef994da58b743c25c1f38204",
       "version_major": 2,
       "version_minor": 0
      },
      "text/plain": [
       "HBox(children=(FloatProgress(value=1.0, bar_style='info', max=1.0), HTML(value='')))"
      ]
     },
     "metadata": {},
     "output_type": "display_data"
    },
    {
     "name": "stdout",
     "output_type": "stream",
     "text": [
      "RF Accuracy: 0.7869955156950673 - Log Loss: 0.8891877224352214\n",
      "ET Accuracy: 0.7802690582959642 - Log Loss: 1.7277767849421113\n",
      "LR StdScaler Accuracy: 0.7713004484304933 - Log Loss: 0.4548870233895985\n",
      "LR MinMax Accuracy: 0.773542600896861 - Log Loss: 0.45730271249069515\n",
      "\n",
      "RF Accuracy: 0.8292134831460675 - Log Loss: 0.6313360340802087\n",
      "ET Accuracy: 0.8089887640449438 - Log Loss: 2.533916920090966\n",
      "LR StdScaler Accuracy: 0.7955056179775281 - Log Loss: 0.4579224442106097\n",
      "LR MinMax Accuracy: 0.802247191011236 - Log Loss: 0.4610789905245164\n",
      "\n",
      "\n"
     ]
    }
   ],
   "source": [
    "# To resample\n",
    "kf = KFold(n_splits=2, random_state=0, shuffle=True)\n",
    "\n",
    "# Use a predictions of first model to training next models \n",
    "second_level = np.zeros((X.shape[0], 4))\n",
    "\n",
    "for train, valid in tqdm(kf.split(X, y)):\n",
    "    X_train, X_valid = X.iloc[train], X.iloc[valid]\n",
    "    y_train, y_valid = y.iloc[train], y.iloc[valid]\n",
    "    \n",
    "    rf = RandomForestClassifier(n_estimators=100, n_jobs=6, random_state=10)\n",
    "    rf.fit(X_train, y_train)\n",
    "    pred_rf = rf.predict_proba(X_valid)[:,1]\n",
    "    pred_rf_ = (pred_rf > 0.5).astype(int)\n",
    "    \n",
    "    print(\"RF Accuracy: {} - Log Loss: {}\".format(accuracy_score(y_valid, pred_rf_), log_loss(y_valid, pred_rf)))\n",
    "    \n",
    "    et = ExtraTreesClassifier(n_estimators=100, n_jobs=6, random_state=10)\n",
    "    et.fit(X_train, y_train)\n",
    "    pred_et = et.predict_proba(X_valid)[:,1]\n",
    "    pred_et_ = (pred_et > 0.5).astype(int)\n",
    "    \n",
    "    print(\"ET Accuracy: {} - Log Loss: {}\".format(accuracy_score(y_valid, pred_et_), log_loss(y_valid, pred_et)))\n",
    "    \n",
    "    lr1 = make_pipeline(StandardScaler(), LogisticRegression())\n",
    "    lr1.fit(X_train, y_train)\n",
    "    pred_lr1 = lr1.predict_proba(X_valid)[:,1]\n",
    "    pred_lr1_ = (pred_lr1 > 0.5).astype(int)\n",
    "    \n",
    "    print(\"LR StdScaler Accuracy: {} - Log Loss: {}\".format(accuracy_score(y_valid, pred_lr1_), log_loss(y_valid, pred_lr1)))\n",
    "    \n",
    "    lr2 = make_pipeline(MinMaxScaler(), LogisticRegression())\n",
    "    lr2.fit(X_train, y_train)\n",
    "    pred_lr2 = lr2.predict_proba(X_valid)[:,1]\n",
    "    pred_lr2_ = (pred_lr2 > 0.5).astype(int)\n",
    "    \n",
    "    print(\"LR MinMax Accuracy: {} - Log Loss: {}\".format(accuracy_score(y_valid, pred_lr2_), log_loss(y_valid, pred_lr2)))\n",
    "    \n",
    "    second_level[valid, 0] = pred_rf\n",
    "    second_level[valid, 1] = pred_et\n",
    "    second_level[valid, 2] = pred_lr1\n",
    "    second_level[valid, 3] = pred_lr2\n",
    "    \n",
    "    print()\n",
    "    \n"
   ]
  },
  {
   "cell_type": "markdown",
   "metadata": {},
   "source": [
    "### Log Loss - \n",
    "- Random Forest is not calibrated by default\n",
    "\n",
    "### Other forms of Stacking\n",
    "\n",
    "- Simple Media\n",
    "- Weighted Media"
   ]
  },
  {
   "cell_type": "code",
   "execution_count": 16,
   "metadata": {},
   "outputs": [
    {
     "data": {
      "text/plain": [
       "array([[0.15      , 0.19      , 0.0947167 , 0.11582552],\n",
       "       [0.95      , 0.99      , 0.90010202, 0.88974478],\n",
       "       [0.54      , 0.76      , 0.65737866, 0.63540321],\n",
       "       ...,\n",
       "       [0.74      , 0.76      , 0.61083421, 0.59159169],\n",
       "       [0.84      , 0.92      , 0.45575654, 0.45086285],\n",
       "       [0.35583333, 0.4       , 0.10479333, 0.11872796]])"
      ]
     },
     "execution_count": 16,
     "metadata": {},
     "output_type": "execute_result"
    }
   ],
   "source": [
    "second_level"
   ]
  },
  {
   "cell_type": "code",
   "execution_count": 18,
   "metadata": {},
   "outputs": [],
   "source": [
    "# second_level.mean(axis=1)"
   ]
  },
  {
   "cell_type": "code",
   "execution_count": null,
   "metadata": {},
   "outputs": [],
   "source": [
    "folds = [1, 2, 3]\n",
    "\n",
    "primeiro nivel\n",
    "\n",
    "ciclo 1 = [1,2] [3]\n",
    "ciclo 2 = [1,3] [2]\n",
    "ciclo 3 = [2,3] [1]\n",
    "\n",
    "segundo nivel\n",
    "\n",
    "ciclo 1 = [1,2] [3]\n",
    "ciclo 2 = [1,3] [2]\n",
    "ciclo 3 = [2,3] [1]\n",
    "\n",
    "\n",
    "\n",
    "\n"
   ]
  },
  {
   "cell_type": "markdown",
   "metadata": {},
   "source": [
    "## Diversity Factors\n",
    "\n",
    "- modelos - gbm + rede neural, knn \n",
    "- features\n",
    "- exemplos \n",
    "- hiperparametros "
   ]
  },
  {
   "cell_type": "code",
   "execution_count": 97,
   "metadata": {},
   "outputs": [
    {
     "data": {
      "text/plain": [
       "array([[0.15      , 0.19      , 0.0947167 , 0.11582552],\n",
       "       [0.95      , 0.99      , 0.90010202, 0.88974478],\n",
       "       [0.54      , 0.76      , 0.65737866, 0.63540321],\n",
       "       ...,\n",
       "       [0.74      , 0.76      , 0.61083421, 0.59159169],\n",
       "       [0.84      , 0.92      , 0.45575654, 0.45086285],\n",
       "       [0.35583333, 0.4       , 0.10479333, 0.11872796]])"
      ]
     },
     "execution_count": 97,
     "metadata": {},
     "output_type": "execute_result"
    }
   ],
   "source": [
    "second_level"
   ]
  },
  {
   "cell_type": "code",
   "execution_count": 21,
   "metadata": {},
   "outputs": [
    {
     "data": {
      "application/vnd.jupyter.widget-view+json": {
       "model_id": "12615538318148d9aac68b6c2680d089",
       "version_major": 2,
       "version_minor": 0
      },
      "text/plain": [
       "HBox(children=(FloatProgress(value=1.0, bar_style='info', max=1.0), HTML(value='')))"
      ]
     },
     "metadata": {},
     "output_type": "display_data"
    },
    {
     "name": "stdout",
     "output_type": "stream",
     "text": [
      "Stack Accuracy: 0.8004484304932735  Log loss: 0.4379152913562436\n",
      "\n",
      "Stack Accuracy: 0.8157303370786517  Log loss: 0.42892608158477763\n",
      "\n",
      "\n"
     ]
    }
   ],
   "source": [
    "# Does not recreate the kf to guarantee the same split\n",
    "for train, valid in tqdm(kf.split(X,y)):\n",
    "    \n",
    "    X_train, X_valid = second_level[train], second_level[valid]\n",
    "    y_train, y_valid = y.iloc[train], y.iloc[valid]\n",
    "    \n",
    "    lr_stack = LogisticRegression(C=1.)\n",
    "    lr_stack.fit(X_train, y_train)\n",
    "    pred_lr_stack = lr_stack.predict_proba(X_valid)[:,1]\n",
    "    pred_lr_stack_ = (pred_lr_stack > 0.5).astype(int)\n",
    "    \n",
    "    print(\"Stack Accuracy: {}  Log loss: {}\".format(accuracy_score(y_valid, pred_lr_stack_), \n",
    "                                                    log_loss(y_valid, pred_lr_stack)))\n",
    "    print()"
   ]
  },
  {
   "cell_type": "code",
   "execution_count": 22,
   "metadata": {},
   "outputs": [
    {
     "data": {
      "text/html": [
       "<div>\n",
       "<style scoped>\n",
       "    .dataframe tbody tr th:only-of-type {\n",
       "        vertical-align: middle;\n",
       "    }\n",
       "\n",
       "    .dataframe tbody tr th {\n",
       "        vertical-align: top;\n",
       "    }\n",
       "\n",
       "    .dataframe thead th {\n",
       "        text-align: right;\n",
       "    }\n",
       "</style>\n",
       "<table border=\"1\" class=\"dataframe\">\n",
       "  <thead>\n",
       "    <tr style=\"text-align: right;\">\n",
       "      <th></th>\n",
       "      <th>0</th>\n",
       "      <th>1</th>\n",
       "      <th>2</th>\n",
       "      <th>3</th>\n",
       "    </tr>\n",
       "  </thead>\n",
       "  <tbody>\n",
       "    <tr>\n",
       "      <th>0</th>\n",
       "      <td>1.000000</td>\n",
       "      <td>0.966815</td>\n",
       "      <td>0.808323</td>\n",
       "      <td>0.808835</td>\n",
       "    </tr>\n",
       "    <tr>\n",
       "      <th>1</th>\n",
       "      <td>0.966815</td>\n",
       "      <td>1.000000</td>\n",
       "      <td>0.756249</td>\n",
       "      <td>0.756569</td>\n",
       "    </tr>\n",
       "    <tr>\n",
       "      <th>2</th>\n",
       "      <td>0.808323</td>\n",
       "      <td>0.756249</td>\n",
       "      <td>1.000000</td>\n",
       "      <td>0.995999</td>\n",
       "    </tr>\n",
       "    <tr>\n",
       "      <th>3</th>\n",
       "      <td>0.808835</td>\n",
       "      <td>0.756569</td>\n",
       "      <td>0.995999</td>\n",
       "      <td>1.000000</td>\n",
       "    </tr>\n",
       "  </tbody>\n",
       "</table>\n",
       "</div>"
      ],
      "text/plain": [
       "          0         1         2         3\n",
       "0  1.000000  0.966815  0.808323  0.808835\n",
       "1  0.966815  1.000000  0.756249  0.756569\n",
       "2  0.808323  0.756249  1.000000  0.995999\n",
       "3  0.808835  0.756569  0.995999  1.000000"
      ]
     },
     "execution_count": 22,
     "metadata": {},
     "output_type": "execute_result"
    }
   ],
   "source": [
    "pd.DataFrame(np.corrcoef(second_level.T))"
   ]
  }
 ],
 "metadata": {
  "kernelspec": {
   "display_name": "Python 3",
   "language": "python",
   "name": "python3"
  },
  "language_info": {
   "codemirror_mode": {
    "name": "ipython",
    "version": 3
   },
   "file_extension": ".py",
   "mimetype": "text/x-python",
   "name": "python",
   "nbconvert_exporter": "python",
   "pygments_lexer": "ipython3",
   "version": "3.7.6"
  }
 },
 "nbformat": 4,
 "nbformat_minor": 4
}
